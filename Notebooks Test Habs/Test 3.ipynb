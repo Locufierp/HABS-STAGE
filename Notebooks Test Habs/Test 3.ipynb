{
 "cells": [
  {
   "cell_type": "code",
   "execution_count": 1,
   "id": "46349f70-b502-4ab2-b780-45745526d9a5",
   "metadata": {},
   "outputs": [],
   "source": [
    "import nest_asyncio # to allow HABSlib to run async in a Jupyter notebook\n",
    "nest_asyncio.apply()\n",
    "\n",
    "import HABSlib as hb"
   ]
  },
  {
   "cell_type": "code",
   "execution_count": 2,
   "id": "26bb3c72-69cf-4b0a-b341-acc670cf60c8",
   "metadata": {},
   "outputs": [
    {
     "name": "stdout",
     "output_type": "stream",
     "text": [
      "\n",
      "       HUMAN        AUGMENTED        BRAIN         SYSTEMS     \n",
      "   ----------------------------------------------------------- \n",
      "   ▒▒▒▒     ▒▒▒▒     ░▒▒▒▒▒░     ▒▒▒▒▒▒▒▒▒▒▒▒░   ░▒▒▒▒▒▒▒▒▒░   \n",
      "   ▒▒▒▒     ▒▒▒▒    ░▒▒▒▒▒▒▒░             ░▒▒▒▒ ░▒▒▒░     ░▒░  \n",
      "   ▒▒▒▒▒▒▒▒▒▒▒▒▒   ░▒▒▒▒ ▒▒▒▒░   ▒▒▒▒▒▒▒▒▒▒▒▒▒   ░▒▒▒▒▒▒▒▒▒░   \n",
      "   ▒▒▒▒     ▒▒▒▒  ░▒▒▒▒   ▒▒▒▒░  ▒▒▒▒     ░▒▒▒▒ ░▒░     ░▒▒▒░  \n",
      "   ▒▒▒▒     ▒▒▒▒ ░▒▒▒▒     ▒▒▒▒░ ▒▒▒▒▒▒▒▒▒▒▒▒░   ░▒▒▒▒▒▒▒▒▒░   \n",
      "   ----------------------------------------------------------- \n",
      "   version: 0.1.33\n",
      "\n",
      "Handshake (RSA) successful.\n",
      "Handshake (AES) successful.\n"
     ]
    },
    {
     "data": {
      "text/plain": [
       "True"
      ]
     },
     "execution_count": 2,
     "metadata": {},
     "output_type": "execute_result"
    }
   ],
   "source": [
    "hb.handshake(base_url=\"http://135.237.144.125\", user_id='8d60e8693a9560ee57e8eba3')"
   ]
  },
  {
   "cell_type": "code",
   "execution_count": 3,
   "id": "53cbdb0e-0167-46b2-9baa-655ff402762f",
   "metadata": {},
   "outputs": [
    {
     "name": "stdout",
     "output_type": "stream",
     "text": [
      "A general error occurred: test_data.edf: can not open file, no such file or directory\n",
      "this session: False\n"
     ]
    }
   ],
   "source": [
    "from datetime import datetime\n",
    "from scipy import signal\n",
    "\n",
    "session_id = hb.send_file(\n",
    "    user_id='8d60e8693a9560ee57e8eba3', \n",
    "    date=datetime.today().strftime('%Y-%m-%d'), \n",
    "    edf_file=r\"test_data.edf\", \n",
    "    ch_nrs=[0,1,2,3], \n",
    "    session_type=\"Upload data\", \n",
    "    tags=['edf', 'file']\n",
    ")\n",
    "\n",
    "print(\"this session:\", session_id)"
   ]
  },
  {
   "cell_type": "code",
   "execution_count": null,
   "id": "d1c983bb-6cda-4314-821b-388c866b9da9",
   "metadata": {},
   "outputs": [],
   "source": [
    "import numpy as np\n",
    "\n",
    "results = hb.get_data_by_session(user_id='8d60e8693a9560ee57e8eba3', session_id='669a6385cc485c74bb95116d')\n",
    "data = np.array(results)\n",
    "print(data.shape)\n",
    "print(data)"
   ]
  },
  {
   "cell_type": "code",
   "execution_count": null,
   "id": "281cff08-31ec-409c-a88e-f4a4d3ed9a4a",
   "metadata": {},
   "outputs": [],
   "source": [
    "import matplotlib.pyplot as plt\n",
    "\n",
    "samples_per_second = 250\n",
    "num_channels=4 # how many you want to plot\n",
    "    \n",
    "time = np.arange(data.shape[1]) / samples_per_second\n",
    "fig, axes = plt.subplots(num_channels, 1, figsize=(15, 10), sharex=True)\n",
    "\n",
    "if num_channels == 1:\n",
    "    axes = [axes]\n",
    "\n",
    "for i, ax in enumerate(axes[:num_channels]):\n",
    "    ax.plot(time, data[i])\n",
    "    ax.set_title(f'Channel {i+1}')\n",
    "    ax.set_ylabel('Amplitude')\n",
    "    ax.grid(True)\n",
    "\n",
    "axes[-1].set_xlabel('Time (s)')\n",
    "plt.tight_layout()\n",
    "plt.show()"
   ]
  },
  {
   "cell_type": "code",
   "execution_count": null,
   "id": "d79be652-c5d1-4729-9582-985cb6fef927",
   "metadata": {},
   "outputs": [],
   "source": [
    "from scipy import signal\n",
    "\n",
    "# Define frequency bands\n",
    "bands = {\n",
    "    'Delta': (1, 4, 'yellow'),\n",
    "    'Theta': (4, 8, 'green'),\n",
    "    'Alpha': (8, 13, 'cyan'),\n",
    "    'Beta': (13, 30, 'blue'),\n",
    "    'Gamma': (30, 100, 'red')\n",
    "}\n",
    "\n",
    "fig, axes = plt.subplots(num_channels, 1, figsize=(15, 10), sharex=True)\n",
    "\n",
    "if num_channels == 1:\n",
    "    axes = [axes]\n",
    "\n",
    "for i in range(num_channels):\n",
    "    # Plotting the PSD\n",
    "    freqs, psd = signal.welch(data[i], fs=samples_per_second)\n",
    "    axes[i].semilogy(freqs, psd)\n",
    "    axes[i].set_title(f'Channel {i+1} PSD')\n",
    "    axes[i].set_ylabel('PSD (V^2/Hz)')\n",
    "    axes[i].grid(True)\n",
    "\n",
    "    # Highlighting frequency bands\n",
    "    for band, (low, high,col) in bands.items():\n",
    "        axes[i].axvspan(low, high, color=col, alpha=0.3)\n",
    "        axes[i].text((low + high) / 2, max(psd), band, horizontalalignment='center', verticalalignment='top')\n",
    "\n",
    "axes[-1].set_xlabel('Frequency (Hz)')\n",
    "plt.tight_layout()\n",
    "plt.show()"
   ]
  },
  {
   "cell_type": "code",
   "execution_count": 2,
   "id": "91bb3dda-3b4b-4812-b518-76cb3abe515a",
   "metadata": {},
   "outputs": [
    {
     "name": "stdout",
     "output_type": "stream",
     "text": [
      "{'user_id': '8d60e8693a9560ee57e8eba3', 'session_date': '2024-07-19 16:39:49', 'existing_session_id': '669a5fd4cc485c74bb951154', 'session_type': '[On 669a5fd4cc485c74bb951154]: post-processing test', 'session_tags': ['Developer']}\n",
      "Metadata validation successful!\n"
     ]
    },
    {
     "ename": "TypeError",
     "evalue": "argument should be a bytes-like object or ASCII string, not 'NoneType'",
     "output_type": "error",
     "traceback": [
      "\u001b[0;31m---------------------------------------------------------------------------\u001b[0m",
      "\u001b[0;31mTypeError\u001b[0m                                 Traceback (most recent call last)",
      "Cell \u001b[0;32mIn[2], line 8\u001b[0m\n\u001b[1;32m      5\u001b[0m b_notch, a_notch \u001b[38;5;241m=\u001b[39m signal\u001b[38;5;241m.\u001b[39miirnotch(\u001b[38;5;241m50.\u001b[39m, \u001b[38;5;241m2.0\u001b[39m, \u001b[38;5;241m250\u001b[39m)\n\u001b[1;32m      6\u001b[0m sos \u001b[38;5;241m=\u001b[39m signal\u001b[38;5;241m.\u001b[39mbutter(\u001b[38;5;241m10\u001b[39m, [\u001b[38;5;241m1\u001b[39m, \u001b[38;5;241m40\u001b[39m], \u001b[38;5;124m'\u001b[39m\u001b[38;5;124mbandpass\u001b[39m\u001b[38;5;124m'\u001b[39m, fs\u001b[38;5;241m=\u001b[39m\u001b[38;5;241m250\u001b[39m, output\u001b[38;5;241m=\u001b[39m\u001b[38;5;124m'\u001b[39m\u001b[38;5;124msos\u001b[39m\u001b[38;5;124m'\u001b[39m)\n\u001b[0;32m----> 8\u001b[0m new_session_id, processed_data \u001b[38;5;241m=\u001b[39m \u001b[43mhb\u001b[49m\u001b[38;5;241;43m.\u001b[39;49m\u001b[43mprocess_session_pipe\u001b[49m\u001b[43m(\u001b[49m\n\u001b[1;32m      9\u001b[0m \u001b[43m    \u001b[49m\u001b[38;5;66;43;03m## Tests ##\u001b[39;49;00m\n\u001b[1;32m     10\u001b[0m \u001b[43m    \u001b[49m\u001b[38;5;66;43;03m# pipeline='/filtering/artifact/mean',\u001b[39;49;00m\n\u001b[1;32m     11\u001b[0m \u001b[43m    \u001b[49m\u001b[38;5;66;43;03m# pipeline='/filtering/artifact/std',\u001b[39;49;00m\n\u001b[1;32m     12\u001b[0m \u001b[43m    \u001b[49m\u001b[38;5;66;43;03m# pipeline='/filtering/artifact/var',\u001b[39;49;00m\n\u001b[1;32m     13\u001b[0m \u001b[43m    \u001b[49m\u001b[38;5;66;43;03m# pipeline='/filtering/artifact/kurtosis',\u001b[39;49;00m\n\u001b[1;32m     14\u001b[0m \u001b[43m    \u001b[49m\u001b[38;5;66;43;03m# pipeline='/filtering/artifact/skew',\u001b[39;49;00m\n\u001b[1;32m     15\u001b[0m \u001b[43m    \u001b[49m\u001b[38;5;66;43;03m# pipeline='/filtering/artifact/ifms',\u001b[39;49;00m\n\u001b[1;32m     16\u001b[0m \u001b[43m    \u001b[49m\u001b[38;5;66;43;03m# pipeline='/filtering/artifact/delta',\u001b[39;49;00m\n\u001b[1;32m     17\u001b[0m \u001b[43m    \u001b[49m\u001b[38;5;66;43;03m# pipeline='/filtering/artifact/theta',\u001b[39;49;00m\n\u001b[1;32m     18\u001b[0m \u001b[43m    \u001b[49m\u001b[43mpipeline\u001b[49m\u001b[38;5;241;43m=\u001b[39;49m\u001b[38;5;124;43m'\u001b[39;49m\u001b[38;5;124;43m/filtering/artifact/alpha\u001b[39;49m\u001b[38;5;124;43m'\u001b[39;49m\u001b[43m,\u001b[49m\n\u001b[1;32m     19\u001b[0m \u001b[43m    \u001b[49m\u001b[38;5;66;43;03m# pipeline='/filtering/artifact/beta',\u001b[39;49;00m\n\u001b[1;32m     20\u001b[0m \u001b[43m    \u001b[49m\u001b[38;5;66;43;03m# pipeline='/filtering/artifact/gamma',\u001b[39;49;00m\n\u001b[1;32m     21\u001b[0m \u001b[43m    \u001b[49m\u001b[38;5;66;43;03m# pipeline='/filtering/artifact/zerocrossing',\u001b[39;49;00m\n\u001b[1;32m     22\u001b[0m \u001b[43m    \u001b[49m\u001b[38;5;66;43;03m# pipeline='/filtering/artifact/hjorthmobility',\u001b[39;49;00m\n\u001b[1;32m     23\u001b[0m \u001b[43m    \u001b[49m\u001b[38;5;66;43;03m# pipeline='/filtering/artifact/hjorthcomplexity',\u001b[39;49;00m\n\u001b[1;32m     24\u001b[0m \u001b[43m    \u001b[49m\u001b[38;5;66;43;03m# pipeline='/filtering/artifact/entropy',\u001b[39;49;00m\n\u001b[1;32m     25\u001b[0m \u001b[43m    \u001b[49m\u001b[38;5;66;43;03m# pipeline='/filtering/artifact/fractaldim',\u001b[39;49;00m\n\u001b[1;32m     26\u001b[0m \u001b[43m    \u001b[49m\u001b[38;5;66;43;03m# pipeline='/filtering/artifact/hurst',\u001b[39;49;00m\n\u001b[1;32m     27\u001b[0m \u001b[43m    \u001b[49m\u001b[38;5;66;43;03m# pipeline='/filtering/artifact/correlatedim',\u001b[39;49;00m\n\u001b[1;32m     28\u001b[0m \u001b[43m    \u001b[49m\u001b[38;5;66;43;03m# pipeline='/filtering/artifact/selfaffinity',\u001b[39;49;00m\n\u001b[1;32m     29\u001b[0m \u001b[43m    \u001b[49m\u001b[38;5;66;43;03m# pipeline='/filtering/artifact/relative',\u001b[39;49;00m\n\u001b[1;32m     30\u001b[0m \u001b[43m    \u001b[49m\u001b[38;5;66;43;03m# pipeline='/filtering/artifact/asymmetry',\u001b[39;49;00m\n\u001b[1;32m     31\u001b[0m \u001b[43m    \u001b[49m\u001b[38;5;66;43;03m# pipeline='/filtering/artifact/correlation',\u001b[39;49;00m\n\u001b[1;32m     32\u001b[0m \u001b[43m    \u001b[49m\u001b[38;5;66;43;03m# pipeline='/filtering/artifact/phaselocking',\u001b[39;49;00m\n\u001b[1;32m     33\u001b[0m \u001b[43m    \u001b[49m\u001b[43mparams\u001b[49m\u001b[38;5;241;43m=\u001b[39;49m\u001b[43m{\u001b[49m\u001b[43m \u001b[49m\n\u001b[1;32m     34\u001b[0m \u001b[43m        \u001b[49m\u001b[38;5;66;43;03m# dictionary, the order does not matter, they will be called by key\u001b[39;49;00m\n\u001b[1;32m     35\u001b[0m \u001b[43m        \u001b[49m\u001b[38;5;124;43m\"\u001b[39;49m\u001b[38;5;124;43mfiltering\u001b[39;49m\u001b[38;5;124;43m\"\u001b[39;49m\u001b[43m:\u001b[49m\u001b[43m \u001b[49m\u001b[43m{\u001b[49m\n\u001b[1;32m     36\u001b[0m \u001b[43m            \u001b[49m\u001b[38;5;124;43m'\u001b[39;49m\u001b[38;5;124;43ma_notch\u001b[39;49m\u001b[38;5;124;43m'\u001b[39;49m\u001b[43m:\u001b[49m\u001b[43m \u001b[49m\u001b[43ma_notch\u001b[49m\u001b[38;5;241;43m.\u001b[39;49m\u001b[43mtolist\u001b[49m\u001b[43m(\u001b[49m\u001b[43m)\u001b[49m\u001b[43m,\u001b[49m\n\u001b[1;32m     37\u001b[0m \u001b[43m            \u001b[49m\u001b[38;5;124;43m'\u001b[39;49m\u001b[38;5;124;43mb_notch\u001b[39;49m\u001b[38;5;124;43m'\u001b[39;49m\u001b[43m:\u001b[49m\u001b[43m \u001b[49m\u001b[43mb_notch\u001b[49m\u001b[38;5;241;43m.\u001b[39;49m\u001b[43mtolist\u001b[49m\u001b[43m(\u001b[49m\u001b[43m)\u001b[49m\u001b[43m,\u001b[49m\n\u001b[1;32m     38\u001b[0m \u001b[43m            \u001b[49m\u001b[38;5;124;43m'\u001b[39;49m\u001b[38;5;124;43msos\u001b[39;49m\u001b[38;5;124;43m'\u001b[39;49m\u001b[43m:\u001b[49m\u001b[43m \u001b[49m\u001b[43msos\u001b[49m\u001b[38;5;241;43m.\u001b[39;49m\u001b[43mtolist\u001b[49m\u001b[43m(\u001b[49m\u001b[43m)\u001b[49m\u001b[43m,\u001b[49m\n\u001b[1;32m     39\u001b[0m \u001b[43m        \u001b[49m\u001b[43m}\u001b[49m\u001b[43m,\u001b[49m\n\u001b[1;32m     40\u001b[0m \u001b[43m        \u001b[49m\u001b[38;5;124;43m\"\u001b[39;49m\u001b[38;5;124;43martifact\u001b[39;49m\u001b[38;5;124;43m\"\u001b[39;49m\u001b[43m:\u001b[49m\u001b[43m{\u001b[49m\u001b[43m}\u001b[49m\u001b[43m,\u001b[49m\n\u001b[1;32m     41\u001b[0m \u001b[43m        \u001b[49m\u001b[38;5;66;43;03m# \"mean\":{},\u001b[39;49;00m\n\u001b[1;32m     42\u001b[0m \u001b[43m        \u001b[49m\u001b[38;5;66;43;03m# \"std\":{},\u001b[39;49;00m\n\u001b[1;32m     43\u001b[0m \u001b[43m        \u001b[49m\u001b[38;5;66;43;03m# \"var\":{},\u001b[39;49;00m\n\u001b[1;32m     44\u001b[0m \u001b[43m        \u001b[49m\u001b[38;5;66;43;03m# \"kurtosis\":{},\u001b[39;49;00m\n\u001b[1;32m     45\u001b[0m \u001b[43m        \u001b[49m\u001b[38;5;66;43;03m# \"skew\":{},\u001b[39;49;00m\n\u001b[1;32m     46\u001b[0m \u001b[43m        \u001b[49m\u001b[38;5;66;43;03m# \"ifms\":{},\u001b[39;49;00m\n\u001b[1;32m     47\u001b[0m \u001b[43m        \u001b[49m\u001b[38;5;66;43;03m# \"delta\":{},\u001b[39;49;00m\n\u001b[1;32m     48\u001b[0m \u001b[43m        \u001b[49m\u001b[38;5;66;43;03m# \"theta\":{},\u001b[39;49;00m\n\u001b[1;32m     49\u001b[0m \u001b[43m        \u001b[49m\u001b[38;5;124;43m\"\u001b[39;49m\u001b[38;5;124;43malpha\u001b[39;49m\u001b[38;5;124;43m\"\u001b[39;49m\u001b[43m:\u001b[49m\u001b[43m{\u001b[49m\u001b[43m}\u001b[49m\u001b[43m,\u001b[49m\n\u001b[1;32m     50\u001b[0m \u001b[43m        \u001b[49m\u001b[38;5;66;43;03m# \"beta\":{},\u001b[39;49;00m\n\u001b[1;32m     51\u001b[0m \u001b[43m        \u001b[49m\u001b[38;5;66;43;03m# \"gamma\":{},\u001b[39;49;00m\n\u001b[1;32m     52\u001b[0m \u001b[43m        \u001b[49m\u001b[38;5;66;43;03m# \"zerocrossing\":{},\u001b[39;49;00m\n\u001b[1;32m     53\u001b[0m \u001b[43m        \u001b[49m\u001b[38;5;66;43;03m# \"hjorthmobility\":{},\u001b[39;49;00m\n\u001b[1;32m     54\u001b[0m \u001b[43m        \u001b[49m\u001b[38;5;66;43;03m# \"hjorthcomplexity\":{},\u001b[39;49;00m\n\u001b[1;32m     55\u001b[0m \u001b[43m        \u001b[49m\u001b[38;5;66;43;03m# \"entropy\":{},\u001b[39;49;00m\n\u001b[1;32m     56\u001b[0m \u001b[43m        \u001b[49m\u001b[38;5;66;43;03m# \"fractaldim\":{},\u001b[39;49;00m\n\u001b[1;32m     57\u001b[0m \u001b[43m        \u001b[49m\u001b[38;5;66;43;03m# \"hurst\":{},\u001b[39;49;00m\n\u001b[1;32m     58\u001b[0m \u001b[43m        \u001b[49m\u001b[38;5;66;43;03m# \"correlatedim\":{},\u001b[39;49;00m\n\u001b[1;32m     59\u001b[0m \u001b[43m        \u001b[49m\u001b[38;5;66;43;03m# \"selfaffinity\":{},\u001b[39;49;00m\n\u001b[1;32m     60\u001b[0m \u001b[43m        \u001b[49m\u001b[38;5;66;43;03m# \"relative\":{'band': 'alpha'},\u001b[39;49;00m\n\u001b[1;32m     61\u001b[0m \u001b[43m        \u001b[49m\u001b[38;5;66;43;03m# \"asymmetry\":{'band':'alpha', 'channelA':0, 'channelB':2},\u001b[39;49;00m\n\u001b[1;32m     62\u001b[0m \u001b[43m        \u001b[49m\u001b[38;5;66;43;03m# \"correlation\":{'band':'alpha', 'channelA':0, 'channelB':2},\u001b[39;49;00m\n\u001b[1;32m     63\u001b[0m \u001b[43m        \u001b[49m\u001b[38;5;66;43;03m# \"phaselocking\":{'band':'alpha', 'channelA':0, 'channelB':2},\u001b[39;49;00m\n\u001b[1;32m     64\u001b[0m \u001b[43m    \u001b[49m\u001b[43m}\u001b[49m\u001b[43m,\u001b[49m\n\u001b[1;32m     65\u001b[0m \u001b[43m    \u001b[49m\u001b[43muser_id\u001b[49m\u001b[38;5;241;43m=\u001b[39;49m\u001b[38;5;124;43m'\u001b[39;49m\u001b[38;5;124;43m8d60e8693a9560ee57e8eba3\u001b[39;49m\u001b[38;5;124;43m'\u001b[39;49m\u001b[43m,\u001b[49m\u001b[43m \u001b[49m\n\u001b[1;32m     66\u001b[0m \u001b[43m    \u001b[49m\u001b[43mexisting_session_id\u001b[49m\u001b[38;5;241;43m=\u001b[39;49m\u001b[38;5;124;43m'\u001b[39;49m\u001b[38;5;124;43m669a5fd4cc485c74bb951154\u001b[39;49m\u001b[38;5;124;43m'\u001b[39;49m\u001b[43m,\u001b[49m\u001b[43m \u001b[49m\u001b[38;5;66;43;03m# <<<<<<<<<<<< put here the session_id above\u001b[39;49;00m\n\u001b[1;32m     67\u001b[0m \u001b[43m    \u001b[49m\u001b[43mdate\u001b[49m\u001b[38;5;241;43m=\u001b[39;49m\u001b[43mdatetime\u001b[49m\u001b[38;5;241;43m.\u001b[39;49m\u001b[43mtoday\u001b[49m\u001b[43m(\u001b[49m\u001b[43m)\u001b[49m\u001b[38;5;241;43m.\u001b[39;49m\u001b[43mstrftime\u001b[49m\u001b[43m(\u001b[49m\u001b[38;5;124;43m'\u001b[39;49m\u001b[38;5;124;43m%\u001b[39;49m\u001b[38;5;124;43mY-\u001b[39;49m\u001b[38;5;124;43m%\u001b[39;49m\u001b[38;5;124;43mm-\u001b[39;49m\u001b[38;5;132;43;01m%d\u001b[39;49;00m\u001b[38;5;124;43m \u001b[39;49m\u001b[38;5;124;43m%\u001b[39;49m\u001b[38;5;124;43mH:\u001b[39;49m\u001b[38;5;124;43m%\u001b[39;49m\u001b[38;5;124;43mM:\u001b[39;49m\u001b[38;5;124;43m%\u001b[39;49m\u001b[38;5;124;43mS\u001b[39;49m\u001b[38;5;124;43m'\u001b[39;49m\u001b[43m)\u001b[49m\u001b[43m,\u001b[49m\n\u001b[1;32m     68\u001b[0m \u001b[43m    \u001b[49m\u001b[43msession_type\u001b[49m\u001b[38;5;241;43m=\u001b[39;49m\u001b[38;5;124;43m\"\u001b[39;49m\u001b[38;5;124;43mpost-processing test\u001b[39;49m\u001b[38;5;124;43m\"\u001b[39;49m\u001b[43m,\u001b[49m\u001b[43m \u001b[49m\n\u001b[1;32m     69\u001b[0m \u001b[43m    \u001b[49m\u001b[43mtags\u001b[49m\u001b[38;5;241;43m=\u001b[39;49m\u001b[43m[\u001b[49m\u001b[38;5;124;43m'\u001b[39;49m\u001b[38;5;124;43mDeveloper\u001b[39;49m\u001b[38;5;124;43m'\u001b[39;49m\u001b[43m]\u001b[49m\n\u001b[1;32m     70\u001b[0m \u001b[43m)\u001b[49m\n\u001b[1;32m     71\u001b[0m \u001b[38;5;28mprint\u001b[39m(\u001b[38;5;124m\"\u001b[39m\u001b[38;5;124mthis session:\u001b[39m\u001b[38;5;124m\"\u001b[39m, new_session_id)\n\u001b[1;32m     72\u001b[0m \u001b[38;5;28mprint\u001b[39m(\u001b[38;5;124m\"\u001b[39m\u001b[38;5;124mprocessed_data:\u001b[39m\u001b[38;5;124m\"\u001b[39m, processed_data)\n",
      "File \u001b[0;32m~/.local/lib/python3.10/site-packages/HABSlib/service.py:1092\u001b[0m, in \u001b[0;36mprocess_session_pipe\u001b[0;34m(pipeline, params, user_id, date, existing_session_id, session_type, tags)\u001b[0m\n\u001b[1;32m   1090\u001b[0m _session \u001b[38;5;241m=\u001b[39m json\u001b[38;5;241m.\u001b[39mdumps(_session)\u001b[38;5;241m.\u001b[39mencode(\u001b[38;5;124m'\u001b[39m\u001b[38;5;124mutf-8\u001b[39m\u001b[38;5;124m'\u001b[39m)\n\u001b[1;32m   1091\u001b[0m aes_key_b64 \u001b[38;5;241m=\u001b[39m os\u001b[38;5;241m.\u001b[39menviron\u001b[38;5;241m.\u001b[39mget(\u001b[38;5;124m'\u001b[39m\u001b[38;5;124mAES_KEY\u001b[39m\u001b[38;5;124m'\u001b[39m)\n\u001b[0;32m-> 1092\u001b[0m aes_key_bytes \u001b[38;5;241m=\u001b[39m \u001b[43mbase64\u001b[49m\u001b[38;5;241;43m.\u001b[39;49m\u001b[43mb64decode\u001b[49m\u001b[43m(\u001b[49m\u001b[43maes_key_b64\u001b[49m\u001b[43m)\u001b[49m\n\u001b[1;32m   1093\u001b[0m response \u001b[38;5;241m=\u001b[39m requests\u001b[38;5;241m.\u001b[39mpost(\n\u001b[1;32m   1094\u001b[0m     url,\n\u001b[1;32m   1095\u001b[0m     data\u001b[38;5;241m=\u001b[39mencrypt_message(_session, aes_key_bytes),\n\u001b[1;32m   1096\u001b[0m     headers\u001b[38;5;241m=\u001b[39m{\u001b[38;5;124m'\u001b[39m\u001b[38;5;124mContent-Type\u001b[39m\u001b[38;5;124m'\u001b[39m: \u001b[38;5;124m'\u001b[39m\u001b[38;5;124mapplication/octet-stream\u001b[39m\u001b[38;5;124m'\u001b[39m, \u001b[38;5;124m'\u001b[39m\u001b[38;5;124mX-User-ID\u001b[39m\u001b[38;5;124m'\u001b[39m:user_id}\n\u001b[1;32m   1097\u001b[0m )\n\u001b[1;32m   1098\u001b[0m \u001b[38;5;28;01mif\u001b[39;00m response\u001b[38;5;241m.\u001b[39mstatus_code \u001b[38;5;241m==\u001b[39m \u001b[38;5;241m200\u001b[39m:\n",
      "File \u001b[0;32m/usr/lib/python3.10/base64.py:80\u001b[0m, in \u001b[0;36mb64decode\u001b[0;34m(s, altchars, validate)\u001b[0m\n\u001b[1;32m     65\u001b[0m \u001b[38;5;28;01mdef\u001b[39;00m \u001b[38;5;21mb64decode\u001b[39m(s, altchars\u001b[38;5;241m=\u001b[39m\u001b[38;5;28;01mNone\u001b[39;00m, validate\u001b[38;5;241m=\u001b[39m\u001b[38;5;28;01mFalse\u001b[39;00m):\n\u001b[1;32m     66\u001b[0m \u001b[38;5;250m    \u001b[39m\u001b[38;5;124;03m\"\"\"Decode the Base64 encoded bytes-like object or ASCII string s.\u001b[39;00m\n\u001b[1;32m     67\u001b[0m \n\u001b[1;32m     68\u001b[0m \u001b[38;5;124;03m    Optional altchars must be a bytes-like object or ASCII string of length 2\u001b[39;00m\n\u001b[0;32m   (...)\u001b[0m\n\u001b[1;32m     78\u001b[0m \u001b[38;5;124;03m    in the input result in a binascii.Error.\u001b[39;00m\n\u001b[1;32m     79\u001b[0m \u001b[38;5;124;03m    \"\"\"\u001b[39;00m\n\u001b[0;32m---> 80\u001b[0m     s \u001b[38;5;241m=\u001b[39m \u001b[43m_bytes_from_decode_data\u001b[49m\u001b[43m(\u001b[49m\u001b[43ms\u001b[49m\u001b[43m)\u001b[49m\n\u001b[1;32m     81\u001b[0m     \u001b[38;5;28;01mif\u001b[39;00m altchars \u001b[38;5;129;01mis\u001b[39;00m \u001b[38;5;129;01mnot\u001b[39;00m \u001b[38;5;28;01mNone\u001b[39;00m:\n\u001b[1;32m     82\u001b[0m         altchars \u001b[38;5;241m=\u001b[39m _bytes_from_decode_data(altchars)\n",
      "File \u001b[0;32m/usr/lib/python3.10/base64.py:45\u001b[0m, in \u001b[0;36m_bytes_from_decode_data\u001b[0;34m(s)\u001b[0m\n\u001b[1;32m     43\u001b[0m     \u001b[38;5;28;01mreturn\u001b[39;00m \u001b[38;5;28mmemoryview\u001b[39m(s)\u001b[38;5;241m.\u001b[39mtobytes()\n\u001b[1;32m     44\u001b[0m \u001b[38;5;28;01mexcept\u001b[39;00m \u001b[38;5;167;01mTypeError\u001b[39;00m:\n\u001b[0;32m---> 45\u001b[0m     \u001b[38;5;28;01mraise\u001b[39;00m \u001b[38;5;167;01mTypeError\u001b[39;00m(\u001b[38;5;124m\"\u001b[39m\u001b[38;5;124margument should be a bytes-like object or ASCII \u001b[39m\u001b[38;5;124m\"\u001b[39m\n\u001b[1;32m     46\u001b[0m                     \u001b[38;5;124m\"\u001b[39m\u001b[38;5;124mstring, not \u001b[39m\u001b[38;5;132;01m%r\u001b[39;00m\u001b[38;5;124m\"\u001b[39m \u001b[38;5;241m%\u001b[39m s\u001b[38;5;241m.\u001b[39m\u001b[38;5;18m__class__\u001b[39m\u001b[38;5;241m.\u001b[39m\u001b[38;5;18m__name__\u001b[39m) \u001b[38;5;28;01mfrom\u001b[39;00m \u001b[38;5;28;01mNone\u001b[39;00m\n",
      "\u001b[0;31mTypeError\u001b[0m: argument should be a bytes-like object or ASCII string, not 'NoneType'"
     ]
    }
   ],
   "source": [
    "from scipy import signal\n",
    "from datetime import datetime\n",
    "\n",
    "# parameters for the filtering\n",
    "b_notch, a_notch = signal.iirnotch(50., 2.0, 250)\n",
    "sos = signal.butter(10, [1, 40], 'bandpass', fs=250, output='sos')\n",
    "\n",
    "new_session_id, processed_data = hb.process_session_pipe(\n",
    "    ## Tests ##\n",
    "    # pipeline='/filtering/artifact/mean',\n",
    "    # pipeline='/filtering/artifact/std',\n",
    "    # pipeline='/filtering/artifact/var',\n",
    "    # pipeline='/filtering/artifact/kurtosis',\n",
    "    # pipeline='/filtering/artifact/skew',\n",
    "    # pipeline='/filtering/artifact/ifms',\n",
    "    # pipeline='/filtering/artifact/delta',\n",
    "    # pipeline='/filtering/artifact/theta',\n",
    "    pipeline='/filtering/artifact/alpha',\n",
    "    # pipeline='/filtering/artifact/beta',\n",
    "    # pipeline='/filtering/artifact/gamma',\n",
    "    # pipeline='/filtering/artifact/zerocrossing',\n",
    "    # pipeline='/filtering/artifact/hjorthmobility',\n",
    "    # pipeline='/filtering/artifact/hjorthcomplexity',\n",
    "    # pipeline='/filtering/artifact/entropy',\n",
    "    # pipeline='/filtering/artifact/fractaldim',\n",
    "    # pipeline='/filtering/artifact/hurst',\n",
    "    # pipeline='/filtering/artifact/correlatedim',\n",
    "    # pipeline='/filtering/artifact/selfaffinity',\n",
    "    # pipeline='/filtering/artifact/relative',\n",
    "    # pipeline='/filtering/artifact/asymmetry',\n",
    "    # pipeline='/filtering/artifact/correlation',\n",
    "    # pipeline='/filtering/artifact/phaselocking',\n",
    "    params={ \n",
    "        # dictionary, the order does not matter, they will be called by key\n",
    "        \"filtering\": {\n",
    "            'a_notch': a_notch.tolist(),\n",
    "            'b_notch': b_notch.tolist(),\n",
    "            'sos': sos.tolist(),\n",
    "        },\n",
    "        \"artifact\":{},\n",
    "        # \"mean\":{},\n",
    "        # \"std\":{},\n",
    "        # \"var\":{},\n",
    "        # \"kurtosis\":{},\n",
    "        # \"skew\":{},\n",
    "        # \"ifms\":{},\n",
    "        # \"delta\":{},\n",
    "        # \"theta\":{},\n",
    "        \"alpha\":{},\n",
    "        # \"beta\":{},\n",
    "        # \"gamma\":{},\n",
    "        # \"zerocrossing\":{},\n",
    "        # \"hjorthmobility\":{},\n",
    "        # \"hjorthcomplexity\":{},\n",
    "        # \"entropy\":{},\n",
    "        # \"fractaldim\":{},\n",
    "        # \"hurst\":{},\n",
    "        # \"correlatedim\":{},\n",
    "        # \"selfaffinity\":{},\n",
    "        # \"relative\":{'band': 'alpha'},\n",
    "        # \"asymmetry\":{'band':'alpha', 'channelA':0, 'channelB':2},\n",
    "        # \"correlation\":{'band':'alpha', 'channelA':0, 'channelB':2},\n",
    "        # \"phaselocking\":{'band':'alpha', 'channelA':0, 'channelB':2},\n",
    "    },\n",
    "    user_id='8d60e8693a9560ee57e8eba3', \n",
    "    existing_session_id='669a5fd4cc485c74bb951154', # <<<<<<<<<<<< put here the session_id above\n",
    "    date=datetime.today().strftime('%Y-%m-%d %H:%M:%S'),\n",
    "    session_type=\"post-processing test\", \n",
    "    tags=['Developer']\n",
    ")\n",
    "print(\"this session:\", new_session_id)\n",
    "print(\"processed_data:\", processed_data)"
   ]
  },
  {
   "cell_type": "code",
   "execution_count": null,
   "id": "923f8371-47ad-4339-8150-4d0e2a161f18",
   "metadata": {},
   "outputs": [],
   "source": [
    "fig, axes = plt.subplots(num_channels, 1, figsize=(15, 10), sharex=True)\n",
    "\n",
    "if num_channels == 1:\n",
    "    axes = [axes]\n",
    "\n",
    "for i in range(num_channels):\n",
    "    # Plotting the pipeline results\n",
    "    axes[i].plot(processed_data[i])\n",
    "    axes[i].set_title(f'Channel {i+1} pipeline result')\n",
    "\n",
    "axes[-1].set_xlabel('Time (s)')\n",
    "plt.tight_layout()\n",
    "plt.show()"
   ]
  }
 ],
 "metadata": {
  "kernelspec": {
   "display_name": "Python 3 (ipykernel)",
   "language": "python",
   "name": "python3"
  },
  "language_info": {
   "codemirror_mode": {
    "name": "ipython",
    "version": 3
   },
   "file_extension": ".py",
   "mimetype": "text/x-python",
   "name": "python",
   "nbconvert_exporter": "python",
   "pygments_lexer": "ipython3",
   "version": "3.10.12"
  }
 },
 "nbformat": 4,
 "nbformat_minor": 5
}
