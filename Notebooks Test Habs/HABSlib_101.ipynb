{
 "cells": [
  {
   "cell_type": "markdown",
   "id": "36a6dc34",
   "metadata": {},
   "source": [
    "# HABSlib 101\n",
    "\n",
    "In this first notebook, we will move our first steps into the HABSlib client library for the HABS BrainOS API.    \n",
    "This library allows you to record, store safely, and analyze EEG data, using the HABS BrainOS platform.\n",
    "\n",
    "In this first crash course, we will look at installation, handshake, using the HABS generator of dummy EEG signals, and perform several analyses on them.\n",
    "\n",
    "## Installation\n",
    "First, we install the necessary libraries.    \n",
    "- HABSlib\n",
    "- nest_asyncio (to allow HABSlib to run in a Jupyter notebook, which has already a async loop in each cell)"
   ]
  },
  {
   "cell_type": "code",
   "execution_count": 15,
   "id": "cde7ff7f",
   "metadata": {},
   "outputs": [
    {
     "name": "stdout",
     "output_type": "stream",
     "text": [
      "Defaulting to user installation because normal site-packages is not writeable\n",
      "Requirement already satisfied: HABSlib in /home/paul/.local/lib/python3.10/site-packages (0.1.33)\n",
      "Requirement already satisfied: urllib3==2.2.1 in /home/paul/.local/lib/python3.10/site-packages (from HABSlib) (2.2.1)\n",
      "Requirement already satisfied: requests==2.31.0 in /home/paul/.local/lib/python3.10/site-packages (from HABSlib) (2.31.0)\n",
      "Requirement already satisfied: pdoc in /home/paul/.local/lib/python3.10/site-packages (from HABSlib) (14.5.1)\n",
      "Requirement already satisfied: pytest-order in /home/paul/.local/lib/python3.10/site-packages (from HABSlib) (1.2.1)\n",
      "Requirement already satisfied: pyEDFlib in /home/paul/.local/lib/python3.10/site-packages (from HABSlib) (0.1.37)\n",
      "Requirement already satisfied: jsonschema in /home/paul/.local/lib/python3.10/site-packages (from HABSlib) (4.19.0)\n",
      "Requirement already satisfied: pytest in /home/paul/.local/lib/python3.10/site-packages (from HABSlib) (8.2.2)\n",
      "Requirement already satisfied: asyncio==3.4.3 in /home/paul/.local/lib/python3.10/site-packages (from HABSlib) (3.4.3)\n",
      "Requirement already satisfied: scipy==1.13.0 in /home/paul/.local/lib/python3.10/site-packages (from HABSlib) (1.13.0)\n",
      "Requirement already satisfied: brainflow==5.12.1 in /home/paul/.local/lib/python3.10/site-packages (from HABSlib) (5.12.1)\n",
      "Requirement already satisfied: pytest-dependency in /home/paul/.local/lib/python3.10/site-packages (from HABSlib) (0.6.0)\n",
      "Requirement already satisfied: pytest-html in /home/paul/.local/lib/python3.10/site-packages (from HABSlib) (4.1.1)\n",
      "Requirement already satisfied: numpy==1.26.4 in /home/paul/.local/lib/python3.10/site-packages (from HABSlib) (1.26.4)\n",
      "Requirement already satisfied: cryptography in /usr/lib/python3/dist-packages (from HABSlib) (3.4.8)\n",
      "Requirement already satisfied: nptyping==1.4.4 in /home/paul/.local/lib/python3.10/site-packages (from brainflow==5.12.1->HABSlib) (1.4.4)\n",
      "Requirement already satisfied: charset-normalizer<4,>=2 in /home/paul/.local/lib/python3.10/site-packages (from requests==2.31.0->HABSlib) (3.2.0)\n",
      "Requirement already satisfied: certifi>=2017.4.17 in /usr/lib/python3/dist-packages (from requests==2.31.0->HABSlib) (2020.6.20)\n",
      "Requirement already satisfied: idna<4,>=2.5 in /usr/lib/python3/dist-packages (from requests==2.31.0->HABSlib) (3.3)\n",
      "Requirement already satisfied: typish>=1.7.0 in /home/paul/.local/lib/python3.10/site-packages (from nptyping==1.4.4->brainflow==5.12.1->HABSlib) (1.9.3)\n",
      "Requirement already satisfied: jsonschema-specifications>=2023.03.6 in /home/paul/.local/lib/python3.10/site-packages (from jsonschema->HABSlib) (2023.7.1)\n",
      "Requirement already satisfied: rpds-py>=0.7.1 in /home/paul/.local/lib/python3.10/site-packages (from jsonschema->HABSlib) (0.10.3)\n",
      "Requirement already satisfied: attrs>=22.2.0 in /home/paul/.local/lib/python3.10/site-packages (from jsonschema->HABSlib) (23.1.0)\n",
      "Requirement already satisfied: referencing>=0.28.4 in /home/paul/.local/lib/python3.10/site-packages (from jsonschema->HABSlib) (0.30.2)\n",
      "Requirement already satisfied: Jinja2>=2.11.0 in /home/paul/.local/lib/python3.10/site-packages (from pdoc->HABSlib) (3.1.2)\n",
      "Requirement already satisfied: MarkupSafe in /usr/lib/python3/dist-packages (from pdoc->HABSlib) (2.0.1)\n",
      "Requirement already satisfied: pygments>=2.12.0 in /home/paul/.local/lib/python3.10/site-packages (from pdoc->HABSlib) (2.16.1)\n",
      "Requirement already satisfied: iniconfig in /home/paul/.local/lib/python3.10/site-packages (from pytest->HABSlib) (2.0.0)\n",
      "Requirement already satisfied: packaging in /home/paul/.local/lib/python3.10/site-packages (from pytest->HABSlib) (23.1)\n",
      "Requirement already satisfied: exceptiongroup>=1.0.0rc8 in /home/paul/.local/lib/python3.10/site-packages (from pytest->HABSlib) (1.1.3)\n",
      "Requirement already satisfied: tomli>=1 in /home/paul/.local/lib/python3.10/site-packages (from pytest->HABSlib) (2.0.1)\n",
      "Requirement already satisfied: pluggy<2.0,>=1.5 in /home/paul/.local/lib/python3.10/site-packages (from pytest->HABSlib) (1.5.0)\n",
      "Requirement already satisfied: setuptools in /usr/lib/python3/dist-packages (from pytest-dependency->HABSlib) (59.6.0)\n",
      "Requirement already satisfied: pytest-metadata>=2.0.0 in /home/paul/.local/lib/python3.10/site-packages (from pytest-html->HABSlib) (3.1.1)\n",
      "Note: you may need to restart the kernel to use updated packages.\n"
     ]
    }
   ],
   "source": [
    "pip install HABSlib"
   ]
  },
  {
   "cell_type": "code",
   "execution_count": 16,
   "id": "5a174d89",
   "metadata": {},
   "outputs": [
    {
     "name": "stdout",
     "output_type": "stream",
     "text": [
      "Defaulting to user installation because normal site-packages is not writeable\n",
      "Requirement already satisfied: nest_asyncio in /home/paul/.local/lib/python3.10/site-packages (1.5.8)\n",
      "Note: you may need to restart the kernel to use updated packages.\n"
     ]
    }
   ],
   "source": [
    "pip install nest_asyncio"
   ]
  },
  {
   "cell_type": "code",
   "execution_count": 17,
   "id": "0ad78e2f",
   "metadata": {},
   "outputs": [],
   "source": [
    "import nest_asyncio # to allow HABSlib to run async in a Jupyter notebook\n",
    "nest_asyncio.apply()\n",
    "\n",
    "import HABSlib as hb"
   ]
  },
  {
   "cell_type": "markdown",
   "id": "48835331",
   "metadata": {},
   "source": [
    "## Login\n",
    "In order to use the HABS API, you need to create a free account on habs.ai/developer.    \n",
    "This provides you with the **developer IP address** you can use, and a **user ID**, which you will use for all your interaction with the APIs.\n",
    "\n",
    "The first thing to do to start a session with the HABS BrainOS is to handshake."
   ]
  },
  {
   "cell_type": "code",
   "execution_count": 18,
   "id": "9aa15554",
   "metadata": {},
   "outputs": [
    {
     "name": "stdout",
     "output_type": "stream",
     "text": [
      "\n",
      "       HUMAN        AUGMENTED        BRAIN         SYSTEMS     \n",
      "   ----------------------------------------------------------- \n",
      "   ▒▒▒▒     ▒▒▒▒     ░▒▒▒▒▒░     ▒▒▒▒▒▒▒▒▒▒▒▒░   ░▒▒▒▒▒▒▒▒▒░   \n",
      "   ▒▒▒▒     ▒▒▒▒    ░▒▒▒▒▒▒▒░             ░▒▒▒▒ ░▒▒▒░     ░▒░  \n",
      "   ▒▒▒▒▒▒▒▒▒▒▒▒▒   ░▒▒▒▒ ▒▒▒▒░   ▒▒▒▒▒▒▒▒▒▒▒▒▒   ░▒▒▒▒▒▒▒▒▒░   \n",
      "   ▒▒▒▒     ▒▒▒▒  ░▒▒▒▒   ▒▒▒▒░  ▒▒▒▒     ░▒▒▒▒ ░▒░     ░▒▒▒░  \n",
      "   ▒▒▒▒     ▒▒▒▒ ░▒▒▒▒     ▒▒▒▒░ ▒▒▒▒▒▒▒▒▒▒▒▒░   ░▒▒▒▒▒▒▒▒▒░   \n",
      "   ----------------------------------------------------------- \n",
      "   version: 0.1.33\n",
      "\n",
      "Handshake (RSA) successful.\n",
      "Handshake (AES) successful.\n"
     ]
    },
    {
     "data": {
      "text/plain": [
       "True"
      ]
     },
     "execution_count": 18,
     "metadata": {},
     "output_type": "execute_result"
    }
   ],
   "source": [
    "hb.handshake(base_url=\"http://135.237.144.125/\", user_id='8d60e8693a9560ee57e8eba3')"
   ]
  },
  {
   "cell_type": "markdown",
   "id": "c3788334",
   "metadata": {},
   "source": [
    "## Get user data\n",
    "You can query the user data stored on the server"
   ]
  },
  {
   "cell_type": "code",
   "execution_count": 19,
   "id": "9a3090f2",
   "metadata": {},
   "outputs": [
    {
     "name": "stdout",
     "output_type": "stream",
     "text": [
      "User found.\n",
      "{'_id': {'$oid': '666c0158fcbfd9a830399121'}, 'user_data': {'first_name': 'Domenico', 'last_name': 'Guarino', 'role': 'Admin', 'group': 'HABS', 'email': 'domenico@habs.ai', 'age': 50, 'weight': 89, 'gender': 'M', 'devices': ['MuseS-88D1']}}\n"
     ]
    }
   ],
   "source": [
    "user_data = hb.get_user_by_id(user_id='666c0158fcbfd9a830399121')\n",
    "print(user_data)"
   ]
  },
  {
   "cell_type": "markdown",
   "id": "fa1acf4e",
   "metadata": {},
   "source": [
    "## Acquire data and send\n",
    "For this tutorial, we use the synthetic board included in the HABSlib, which allows you to define:\n",
    "- number of EEG channels ('eeg_channels')\n",
    "- sampling frequency of the channels ('sampling_rate')\n",
    "- level of noise ('noise' between 0, no noise, and 1)\n",
    "- probability of observing a generic artifact ('artifacts')\n",
    "- type of envelope modulation of the EEG (currently 'sinusoidal', at 0.1Hz, or 'random', with mean=0 var=1)\n",
    "- amplitude in each of the frequency bands ('delta_amp', 'theta_amp', ...)\n",
    "- some 'preset' amplitude contents for different states ('focus', 'alert', 'relaxed', 'drowsy')\n",
    "- the presets can be put in a sequence to vary the signal over time\n",
    "- correlation can be introduced between nearby channels ('correlation_strength')\n",
    "\n",
    "As you can see, there are quite a number of options to play with even without an actual EEG device ;)"
   ]
  },
  {
   "cell_type": "code",
   "execution_count": 20,
   "id": "ea0854b1",
   "metadata": {},
   "outputs": [
    {
     "name": "stdout",
     "output_type": "stream",
     "text": [
      "Session successfully created.\n",
      "\n",
      "Session initialized. You can visualize it here:\n",
      "  https://habs.ai/live.html?session_id=669a5617cc485c74bb951131 \n",
      "\n",
      "{'user_id': '666c0158fcbfd9a830399121', 'session_date': '2024-07-19', 'session_type': '', 'session_tags': []}\n",
      "Metadata validation successful!\n",
      "Connecting to the headset...\n",
      "Headset connected successfully!\n",
      "....\n",
      "Stopping data streaming...\n",
      "Releasing session...\n",
      "this session: 669a5617cc485c74bb951131\n"
     ]
    }
   ],
   "source": [
    "import pytest\n",
    "\n",
    "from datetime import datetime\n",
    "\n",
    "session_id = hb.acquire_send_raw(\n",
    "    user_id='666c0158fcbfd9a830399121', \n",
    "    date=datetime.today().strftime('%Y-%m-%d'), \n",
    "    board=\"SYNTHETIC\", \n",
    "    extra={\n",
    "        \"eeg_channels\": 16,\n",
    "        \"sampling_rate\": 250,\n",
    "        \"noise\": 1,\n",
    "        \"artifacts\": 0.001,\n",
    "        \"modulation_type\": 'random',\n",
    "        \"preset\": 'focus', # None # \n",
    "        \"sequence\": None, # [(\"focus\", 20), (\"relaxed\", 20)],\n",
    "        \"correlation_strength\": 0.5\n",
    "    },\n",
    "    serial_number=\"\", \n",
    "    stream_duration=20, \n",
    "    buffer_duration=5\n",
    ")\n",
    "print(\"this session:\", session_id)"
   ]
  },
  {
   "cell_type": "code",
   "execution_count": 21,
   "id": "046be444",
   "metadata": {},
   "outputs": [
    {
     "name": "stdout",
     "output_type": "stream",
     "text": [
      "Failed to retrieve data: {\"Error message\":\"list index out of range (ver: BOS_alpha_)\",\"session_id\":\"66784ad0a2a2481204079813\",\"status\":\"error\"}\n",
      "\n",
      "()\n",
      "None\n"
     ]
    }
   ],
   "source": [
    "import numpy as np\n",
    "\n",
    "results = hb.get_data_by_session(user_id='666c0158fcbfd9a830399121', session_id='66784ad0a2a2481204079813')\n",
    "data = np.array(results)\n",
    "print(data.shape)\n",
    "print(data) "
   ]
  },
  {
   "cell_type": "code",
   "execution_count": 22,
   "id": "86eab951",
   "metadata": {},
   "outputs": [
    {
     "ename": "IndexError",
     "evalue": "tuple index out of range",
     "output_type": "error",
     "traceback": [
      "\u001b[0;31m---------------------------------------------------------------------------\u001b[0m",
      "\u001b[0;31mIndexError\u001b[0m                                Traceback (most recent call last)",
      "Cell \u001b[0;32mIn[22], line 6\u001b[0m\n\u001b[1;32m      3\u001b[0m samples_per_second \u001b[38;5;241m=\u001b[39m \u001b[38;5;241m250\u001b[39m\n\u001b[1;32m      4\u001b[0m num_channels\u001b[38;5;241m=\u001b[39m\u001b[38;5;241m4\u001b[39m \u001b[38;5;66;03m# how many you want to plot\u001b[39;00m\n\u001b[0;32m----> 6\u001b[0m time \u001b[38;5;241m=\u001b[39m np\u001b[38;5;241m.\u001b[39marange(\u001b[43mdata\u001b[49m\u001b[38;5;241;43m.\u001b[39;49m\u001b[43mshape\u001b[49m\u001b[43m[\u001b[49m\u001b[38;5;241;43m1\u001b[39;49m\u001b[43m]\u001b[49m) \u001b[38;5;241m/\u001b[39m samples_per_second\n\u001b[1;32m      7\u001b[0m fig, axes \u001b[38;5;241m=\u001b[39m plt\u001b[38;5;241m.\u001b[39msubplots(num_channels, \u001b[38;5;241m1\u001b[39m, figsize\u001b[38;5;241m=\u001b[39m(\u001b[38;5;241m15\u001b[39m, \u001b[38;5;241m10\u001b[39m), sharex\u001b[38;5;241m=\u001b[39m\u001b[38;5;28;01mTrue\u001b[39;00m)\n\u001b[1;32m      9\u001b[0m \u001b[38;5;28;01mif\u001b[39;00m num_channels \u001b[38;5;241m==\u001b[39m \u001b[38;5;241m1\u001b[39m:\n",
      "\u001b[0;31mIndexError\u001b[0m: tuple index out of range"
     ]
    }
   ],
   "source": [
    "import matplotlib.pyplot as plt\n",
    "\n",
    "samples_per_second = 250\n",
    "num_channels=4 # how many you want to plot\n",
    "    \n",
    "time = np.arange(data.shape[1]) / samples_per_second\n",
    "fig, axes = plt.subplots(num_channels, 1, figsize=(15, 10), sharex=True)\n",
    "\n",
    "if num_channels == 1:\n",
    "    axes = [axes]\n",
    "\n",
    "for i, ax in enumerate(axes[:num_channels]):\n",
    "    ax.plot(time, data[i])\n",
    "    ax.set_title(f'Channel {i+1}')\n",
    "    ax.set_ylabel('Amplitude')\n",
    "    ax.grid(True)\n",
    "\n",
    "axes[-1].set_xlabel('Time (s)')\n",
    "plt.tight_layout()\n",
    "plt.show()"
   ]
  },
  {
   "cell_type": "markdown",
   "id": "01cec196",
   "metadata": {},
   "source": [
    "We passed 'focus' as parameter of the dummy EEG generator. This implies the following amplitude proportions:     \n",
    "```   \n",
    "            del  the  alp  bet  gam\n",
    "'focus':   [0.1, 0.1, 0.5, 0.8, 0.4]\n",
    "```\n",
    "Is it what we find in the signal if we perform a PSD?"
   ]
  },
  {
   "cell_type": "code",
   "execution_count": null,
   "id": "4401f18c",
   "metadata": {},
   "outputs": [],
   "source": [
    "from scipy import signal\n",
    "\n",
    "# Define frequency bands\n",
    "bands = {\n",
    "    'Delta': (1, 4, 'yellow'),\n",
    "    'Theta': (4, 8, 'green'),\n",
    "    'Alpha': (8, 13, 'cyan'),\n",
    "    'Beta': (13, 30, 'blue'),\n",
    "    'Gamma': (30, 100, 'red')\n",
    "}\n",
    "\n",
    "fig, axes = plt.subplots(num_channels, 1, figsize=(15, 10), sharex=True)\n",
    "\n",
    "if num_channels == 1:\n",
    "    axes = [axes]\n",
    "\n",
    "for i in range(num_channels):\n",
    "    # Plotting the PSD\n",
    "    freqs, psd = signal.welch(data[i], fs=samples_per_second)\n",
    "    axes[i].semilogy(freqs, psd)\n",
    "    axes[i].set_title(f'Channel {i+1} PSD')\n",
    "    axes[i].set_ylabel('PSD (V^2/Hz)')\n",
    "    axes[i].grid(True)\n",
    "\n",
    "    # Highlighting frequency bands\n",
    "    for band, (low, high,col) in bands.items():\n",
    "        axes[i].axvspan(low, high, color=col, alpha=0.3)\n",
    "        axes[i].text((low + high) / 2, max(psd), band, horizontalalignment='center', verticalalignment='top')\n",
    "\n",
    "axes[-1].set_xlabel('Frequency (Hz)')\n",
    "plt.tight_layout()\n",
    "plt.show()"
   ]
  },
  {
   "cell_type": "markdown",
   "id": "4274781d",
   "metadata": {},
   "source": [
    "Indeed we find a relatively higher content of Alpha and Beta"
   ]
  },
  {
   "cell_type": "code",
   "execution_count": null,
   "id": "358e4963-6a26-4977-84d4-a11d3abcf714",
   "metadata": {},
   "outputs": [],
   "source": []
  }
 ],
 "metadata": {
  "kernelspec": {
   "display_name": "Python 3 (ipykernel)",
   "language": "python",
   "name": "python3"
  },
  "language_info": {
   "codemirror_mode": {
    "name": "ipython",
    "version": 3
   },
   "file_extension": ".py",
   "mimetype": "text/x-python",
   "name": "python",
   "nbconvert_exporter": "python",
   "pygments_lexer": "ipython3",
   "version": "3.10.12"
  }
 },
 "nbformat": 4,
 "nbformat_minor": 5
}
